{
 "cells": [
  {
   "cell_type": "code",
   "execution_count": null,
   "id": "26f2201e",
   "metadata": {},
   "outputs": [],
   "source": [
    "import pandas as pd\n",
    "from sqlalchemy import create_engine, MetaData, Table\n",
    "import psycopg2\n",
    "from sqlalchemy.ext.declarative import declarative_base\n",
    "Base = declarative_base()\n",
    "from sqlalchemy import Column, Integer, String, Float"
   ]
  },
  {
   "cell_type": "code",
   "execution_count": null,
   "id": "ea16b70c",
   "metadata": {
    "scrolled": true
   },
   "outputs": [],
   "source": [
    "csv = 'gun-violence-data_01-2013_03-2018.csv'\n",
    "guns_db = pd.read_csv(csv)\n"
   ]
  },
  {
   "cell_type": "code",
   "execution_count": null,
   "id": "b23677ee",
   "metadata": {
    "scrolled": true
   },
   "outputs": [],
   "source": [
    "guns_db = guns_db[['date', 'state', 'n_killed', 'n_injured']]\n",
    "guns_db.head()"
   ]
  },
  {
   "cell_type": "code",
   "execution_count": null,
   "id": "bcbcdab7",
   "metadata": {},
   "outputs": [],
   "source": [
    "guns_db = guns_db[(guns_db['date']>'2015-12-31') & (guns_db['date']<'2018-01-01')]"
   ]
  },
  {
   "cell_type": "code",
   "execution_count": null,
   "id": "af6abcba",
   "metadata": {
    "scrolled": true
   },
   "outputs": [],
   "source": [
    "guns_db[['year','month', 'day']] = guns_db.date.str.split(\"-\",expand=True)"
   ]
  },
  {
   "cell_type": "code",
   "execution_count": null,
   "id": "83324401",
   "metadata": {
    "scrolled": true
   },
   "outputs": [],
   "source": [
    "new_db = guns_db.groupby(['state', 'year']).agg('sum').sort_values([\"year\"], ascending=True)\n",
    "new_db"
   ]
  },
  {
   "cell_type": "code",
   "execution_count": null,
   "id": "e933869f",
   "metadata": {},
   "outputs": [],
   "source": [
    "new_db.reset_index('year', inplace=True)\n",
    "new_db"
   ]
  },
  {
   "cell_type": "code",
   "execution_count": null,
   "id": "fed4150b",
   "metadata": {},
   "outputs": [],
   "source": [
    "guns_2016 = new_db.loc[new_db['year']=='2016']\n"
   ]
  },
  {
   "cell_type": "code",
   "execution_count": null,
   "id": "4a2d33f3",
   "metadata": {},
   "outputs": [],
   "source": [
    "guns_2017 = new_db.loc[new_db['year']=='2017']"
   ]
  },
  {
   "cell_type": "code",
   "execution_count": null,
   "id": "85b7ebcd",
   "metadata": {},
   "outputs": [],
   "source": [
    "guns_2016 = guns_2016.drop(columns=['year'])\n",
    "guns_2016"
   ]
  },
  {
   "cell_type": "code",
   "execution_count": null,
   "id": "15b1ed02",
   "metadata": {},
   "outputs": [],
   "source": [
    "guns_2017 = guns_2017.drop(columns=['year'])\n",
    "guns_2017.head()"
   ]
  },
  {
   "cell_type": "code",
   "execution_count": null,
   "id": "536223b1",
   "metadata": {},
   "outputs": [],
   "source": [
    "guns_2016.to_csv('2016_gun_violence.csv')"
   ]
  },
  {
   "cell_type": "code",
   "execution_count": null,
   "id": "f6ad1755",
   "metadata": {},
   "outputs": [],
   "source": [
    "guns_2017.to_csv('2017_gun_violence.csv')"
   ]
  },
  {
   "cell_type": "code",
   "execution_count": null,
   "id": "85f89ce2",
   "metadata": {},
   "outputs": [],
   "source": []
  }
 ],
 "metadata": {
  "kernelspec": {
   "display_name": "Python 3",
   "language": "python",
   "name": "python3"
  },
  "language_info": {
   "codemirror_mode": {
    "name": "ipython",
    "version": 3
   },
   "file_extension": ".py",
   "mimetype": "text/x-python",
   "name": "python",
   "nbconvert_exporter": "python",
   "pygments_lexer": "ipython3",
   "version": "3.8.8"
  }
 },
 "nbformat": 4,
 "nbformat_minor": 5
}
