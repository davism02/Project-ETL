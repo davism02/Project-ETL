{
 "cells": [
  {
   "cell_type": "code",
   "execution_count": 11,
   "id": "f689e19c",
   "metadata": {},
   "outputs": [],
   "source": [
    "import pandas as pd\n",
    "from sqlalchemy import create_engine, MetaData, Table\n",
    "import psycopg2\n",
    "from sqlalchemy.ext.declarative import declarative_base\n",
    "Base = declarative_base()\n",
    "from sqlalchemy import Column, Integer, String, Float\n",
    "import psycopg2"
   ]
  },
  {
   "cell_type": "code",
   "execution_count": null,
   "id": "fd0e171d",
   "metadata": {},
   "outputs": [],
   "source": [
    "from sqlalchemy import create_engine\n",
    "import pandas as pd\n"
   ]
  },
  {
   "cell_type": "code",
   "execution_count": null,
   "id": "a86a558d",
   "metadata": {},
   "outputs": [],
   "source": [
    "guns_2016 = pd"
   ]
  },
  {
   "cell_type": "code",
   "execution_count": 18,
   "id": "36f5822b",
   "metadata": {},
   "outputs": [],
   "source": [
    "# Create Engine and connection to Database\n",
    "#database_path = \"guns_db\"\n",
    "# connection_string = \"postgres:postgres@localhost:5432/guns_db\"\n",
    "# engine = create_engine(f\"sqlite:///{connection_string}\")\n",
    "# conn = engine.connect()\n",
    "connection_string = \"postgres:postgres@localhost:5432/guns_db\"\n",
    "engine = create_engine(f'postgresql://{connection_string}')"
   ]
  },
  {
   "cell_type": "code",
   "execution_count": null,
   "id": "f8c4d9f7",
   "metadata": {},
   "outputs": [],
   "source": [
    "clean_mass_shooting_df.to_sql(name='mass_shootings', con=engine, if_exists='append', index=False)"
   ]
  },
  {
   "cell_type": "code",
   "execution_count": 19,
   "id": "dfc87147",
   "metadata": {},
   "outputs": [
    {
     "name": "stderr",
     "output_type": "stream",
     "text": [
      "<ipython-input-19-d72bc75a6b62>:1: SADeprecationWarning: The Engine.table_names() method is deprecated and will be removed in a future release.  Please refer to Inspector.get_table_names(). (deprecated since: 1.4)\n",
      "  engine.table_names()\n"
     ]
    },
    {
     "data": {
      "text/plain": [
       "['2016_gun_violence',\n",
       " '2017_gun_violence',\n",
       " '2016poverty',\n",
       " '2017poverty',\n",
       " 'totalpopulation']"
      ]
     },
     "execution_count": 19,
     "metadata": {},
     "output_type": "execute_result"
    }
   ],
   "source": [
    "engine.table_names()"
   ]
  },
  {
   "cell_type": "code",
   "execution_count": 20,
   "id": "eabaacc7",
   "metadata": {},
   "outputs": [],
   "source": [
    "guns_2016 = pd.read_csv('2016_gun_violence.csv')\n",
    "guns_2017 = pd.read_csv('2017_gun_violence.csv')\n",
    "population = pd.read_csv('population_clean.csv')\n",
    "poverty_2016 = pd.read_csv('poverty_2016_clean.csv')\n",
    "poverty_2017 = pd.read_csv('poverty_2017_clean.csv')"
   ]
  },
  {
   "cell_type": "code",
   "execution_count": 31,
   "id": "9d871009",
   "metadata": {},
   "outputs": [],
   "source": [
    "guns_2016 = guns_2016.reset_index(inplace=False)\n"
   ]
  },
  {
   "cell_type": "code",
   "execution_count": 38,
   "id": "fd365f61",
   "metadata": {},
   "outputs": [],
   "source": [
    "guns_2016 = guns_2016.rename(columns={'index': 'id'})"
   ]
  },
  {
   "cell_type": "code",
   "execution_count": 42,
   "id": "10377600",
   "metadata": {
    "scrolled": true
   },
   "outputs": [
    {
     "data": {
      "text/html": [
       "<div>\n",
       "<style scoped>\n",
       "    .dataframe tbody tr th:only-of-type {\n",
       "        vertical-align: middle;\n",
       "    }\n",
       "\n",
       "    .dataframe tbody tr th {\n",
       "        vertical-align: top;\n",
       "    }\n",
       "\n",
       "    .dataframe thead th {\n",
       "        text-align: right;\n",
       "    }\n",
       "</style>\n",
       "<table border=\"1\" class=\"dataframe\">\n",
       "  <thead>\n",
       "    <tr style=\"text-align: right;\">\n",
       "      <th></th>\n",
       "      <th>id</th>\n",
       "      <th>state</th>\n",
       "      <th>n_killed</th>\n",
       "      <th>n_injured</th>\n",
       "    </tr>\n",
       "  </thead>\n",
       "  <tbody>\n",
       "    <tr>\n",
       "      <th>0</th>\n",
       "      <td>0</td>\n",
       "      <td>Alabama</td>\n",
       "      <td>488</td>\n",
       "      <td>761</td>\n",
       "    </tr>\n",
       "    <tr>\n",
       "      <th>1</th>\n",
       "      <td>1</td>\n",
       "      <td>Maine</td>\n",
       "      <td>18</td>\n",
       "      <td>37</td>\n",
       "    </tr>\n",
       "    <tr>\n",
       "      <th>2</th>\n",
       "      <td>2</td>\n",
       "      <td>Maryland</td>\n",
       "      <td>429</td>\n",
       "      <td>748</td>\n",
       "    </tr>\n",
       "    <tr>\n",
       "      <th>3</th>\n",
       "      <td>3</td>\n",
       "      <td>Massachusetts</td>\n",
       "      <td>112</td>\n",
       "      <td>468</td>\n",
       "    </tr>\n",
       "    <tr>\n",
       "      <th>4</th>\n",
       "      <td>4</td>\n",
       "      <td>Michigan</td>\n",
       "      <td>385</td>\n",
       "      <td>700</td>\n",
       "    </tr>\n",
       "  </tbody>\n",
       "</table>\n",
       "</div>"
      ],
      "text/plain": [
       "   id          state  n_killed  n_injured\n",
       "0   0        Alabama       488        761\n",
       "1   1          Maine        18         37\n",
       "2   2       Maryland       429        748\n",
       "3   3  Massachusetts       112        468\n",
       "4   4       Michigan       385        700"
      ]
     },
     "execution_count": 42,
     "metadata": {},
     "output_type": "execute_result"
    }
   ],
   "source": [
    "guns_2016.head()"
   ]
  },
  {
   "cell_type": "code",
   "execution_count": 43,
   "id": "45201f54",
   "metadata": {},
   "outputs": [],
   "source": [
    "guns_2016.to_sql(name=\"2016_gun_violence\", con=engine, if_exists='append', index=False)"
   ]
  },
  {
   "cell_type": "code",
   "execution_count": 44,
   "id": "1fed5242",
   "metadata": {},
   "outputs": [],
   "source": [
    "guns_2017 = guns_2016.reset_index(inplace=False)\n",
    "guns_2017 = guns_2016.rename(columns={'index': 'id'})"
   ]
  },
  {
   "cell_type": "code",
   "execution_count": 47,
   "id": "acbd248a",
   "metadata": {},
   "outputs": [
    {
     "data": {
      "text/html": [
       "<div>\n",
       "<style scoped>\n",
       "    .dataframe tbody tr th:only-of-type {\n",
       "        vertical-align: middle;\n",
       "    }\n",
       "\n",
       "    .dataframe tbody tr th {\n",
       "        vertical-align: top;\n",
       "    }\n",
       "\n",
       "    .dataframe thead th {\n",
       "        text-align: right;\n",
       "    }\n",
       "</style>\n",
       "<table border=\"1\" class=\"dataframe\">\n",
       "  <thead>\n",
       "    <tr style=\"text-align: right;\">\n",
       "      <th></th>\n",
       "      <th>id</th>\n",
       "      <th>state</th>\n",
       "      <th>n_killed</th>\n",
       "      <th>n_injured</th>\n",
       "    </tr>\n",
       "  </thead>\n",
       "  <tbody>\n",
       "    <tr>\n",
       "      <th>0</th>\n",
       "      <td>0</td>\n",
       "      <td>Alabama</td>\n",
       "      <td>488</td>\n",
       "      <td>761</td>\n",
       "    </tr>\n",
       "    <tr>\n",
       "      <th>1</th>\n",
       "      <td>1</td>\n",
       "      <td>Maine</td>\n",
       "      <td>18</td>\n",
       "      <td>37</td>\n",
       "    </tr>\n",
       "    <tr>\n",
       "      <th>2</th>\n",
       "      <td>2</td>\n",
       "      <td>Maryland</td>\n",
       "      <td>429</td>\n",
       "      <td>748</td>\n",
       "    </tr>\n",
       "    <tr>\n",
       "      <th>3</th>\n",
       "      <td>3</td>\n",
       "      <td>Massachusetts</td>\n",
       "      <td>112</td>\n",
       "      <td>468</td>\n",
       "    </tr>\n",
       "    <tr>\n",
       "      <th>4</th>\n",
       "      <td>4</td>\n",
       "      <td>Michigan</td>\n",
       "      <td>385</td>\n",
       "      <td>700</td>\n",
       "    </tr>\n",
       "  </tbody>\n",
       "</table>\n",
       "</div>"
      ],
      "text/plain": [
       "   id          state  n_killed  n_injured\n",
       "0   0        Alabama       488        761\n",
       "1   1          Maine        18         37\n",
       "2   2       Maryland       429        748\n",
       "3   3  Massachusetts       112        468\n",
       "4   4       Michigan       385        700"
      ]
     },
     "execution_count": 47,
     "metadata": {},
     "output_type": "execute_result"
    }
   ],
   "source": [
    "guns_2017.head()"
   ]
  },
  {
   "cell_type": "code",
   "execution_count": 48,
   "id": "1300c32f",
   "metadata": {},
   "outputs": [],
   "source": [
    "guns_2017.to_sql(name=\"2017_gun_violence\", con=engine, if_exists='append', index=False)"
   ]
  },
  {
   "cell_type": "code",
   "execution_count": 50,
   "id": "7c00bdf7",
   "metadata": {},
   "outputs": [],
   "source": [
    "population = population.rename(columns={'Unnamed: 0': 'id'})"
   ]
  },
  {
   "cell_type": "code",
   "execution_count": 51,
   "id": "a5c3c9a9",
   "metadata": {},
   "outputs": [
    {
     "data": {
      "text/html": [
       "<div>\n",
       "<style scoped>\n",
       "    .dataframe tbody tr th:only-of-type {\n",
       "        vertical-align: middle;\n",
       "    }\n",
       "\n",
       "    .dataframe tbody tr th {\n",
       "        vertical-align: top;\n",
       "    }\n",
       "\n",
       "    .dataframe thead th {\n",
       "        text-align: right;\n",
       "    }\n",
       "</style>\n",
       "<table border=\"1\" class=\"dataframe\">\n",
       "  <thead>\n",
       "    <tr style=\"text-align: right;\">\n",
       "      <th></th>\n",
       "      <th>id</th>\n",
       "      <th>rank</th>\n",
       "      <th>state</th>\n",
       "      <th>population</th>\n",
       "      <th>density_per_sq_mi</th>\n",
       "    </tr>\n",
       "  </thead>\n",
       "  <tbody>\n",
       "    <tr>\n",
       "      <th>0</th>\n",
       "      <td>0</td>\n",
       "      <td>1</td>\n",
       "      <td>California</td>\n",
       "      <td>39461588</td>\n",
       "      <td>254.2929</td>\n",
       "    </tr>\n",
       "    <tr>\n",
       "      <th>1</th>\n",
       "      <td>1</td>\n",
       "      <td>2</td>\n",
       "      <td>Texas</td>\n",
       "      <td>28628666</td>\n",
       "      <td>113.8081</td>\n",
       "    </tr>\n",
       "    <tr>\n",
       "      <th>2</th>\n",
       "      <td>2</td>\n",
       "      <td>3</td>\n",
       "      <td>Florida</td>\n",
       "      <td>21244317</td>\n",
       "      <td>409.2229</td>\n",
       "    </tr>\n",
       "    <tr>\n",
       "      <th>3</th>\n",
       "      <td>3</td>\n",
       "      <td>4</td>\n",
       "      <td>New York</td>\n",
       "      <td>19530351</td>\n",
       "      <td>409.5400</td>\n",
       "    </tr>\n",
       "    <tr>\n",
       "      <th>4</th>\n",
       "      <td>4</td>\n",
       "      <td>5</td>\n",
       "      <td>Pennsylvania</td>\n",
       "      <td>12800922</td>\n",
       "      <td>286.1704</td>\n",
       "    </tr>\n",
       "  </tbody>\n",
       "</table>\n",
       "</div>"
      ],
      "text/plain": [
       "   id  rank         state  population  density_per_sq_mi\n",
       "0   0     1    California    39461588           254.2929\n",
       "1   1     2         Texas    28628666           113.8081\n",
       "2   2     3       Florida    21244317           409.2229\n",
       "3   3     4      New York    19530351           409.5400\n",
       "4   4     5  Pennsylvania    12800922           286.1704"
      ]
     },
     "execution_count": 51,
     "metadata": {},
     "output_type": "execute_result"
    }
   ],
   "source": [
    "population.head()"
   ]
  },
  {
   "cell_type": "code",
   "execution_count": 52,
   "id": "62a22a64",
   "metadata": {},
   "outputs": [],
   "source": [
    "population.to_sql(name=\"totalpopulation\", con=engine, if_exists='append', index=False)"
   ]
  },
  {
   "cell_type": "code",
   "execution_count": 54,
   "id": "19823d63",
   "metadata": {},
   "outputs": [],
   "source": [
    "poverty_2016 = poverty_2016.reset_index(inplace=False)\n",
    "poverty_2016 = poverty_2016.rename(columns={'index': 'id'})"
   ]
  },
  {
   "cell_type": "code",
   "execution_count": 58,
   "id": "49e792d4",
   "metadata": {},
   "outputs": [],
   "source": [
    "poverty_2016 = poverty_2016.drop(['level_0', 'Unnamed: 0'], axis=1)\n"
   ]
  },
  {
   "cell_type": "code",
   "execution_count": 56,
   "id": "50d8aa01",
   "metadata": {},
   "outputs": [],
   "source": [
    "poverty_2016 = poverty_2016.rename(columns={'Location': 'state'})"
   ]
  },
  {
   "cell_type": "code",
   "execution_count": 59,
   "id": "72de56c1",
   "metadata": {},
   "outputs": [
    {
     "data": {
      "text/html": [
       "<div>\n",
       "<style scoped>\n",
       "    .dataframe tbody tr th:only-of-type {\n",
       "        vertical-align: middle;\n",
       "    }\n",
       "\n",
       "    .dataframe tbody tr th {\n",
       "        vertical-align: top;\n",
       "    }\n",
       "\n",
       "    .dataframe thead th {\n",
       "        text-align: right;\n",
       "    }\n",
       "</style>\n",
       "<table border=\"1\" class=\"dataframe\">\n",
       "  <thead>\n",
       "    <tr style=\"text-align: right;\">\n",
       "      <th></th>\n",
       "      <th>id</th>\n",
       "      <th>state</th>\n",
       "      <th>White</th>\n",
       "      <th>Black</th>\n",
       "      <th>Hispanic</th>\n",
       "      <th>Asian/Native Hawaiian and Pacific Islander</th>\n",
       "      <th>American Indian/Alaska Native</th>\n",
       "      <th>Multiple Races</th>\n",
       "      <th>Total</th>\n",
       "    </tr>\n",
       "  </thead>\n",
       "  <tbody>\n",
       "    <tr>\n",
       "      <th>0</th>\n",
       "      <td>0</td>\n",
       "      <td>United States</td>\n",
       "      <td>0.100</td>\n",
       "      <td>0.238</td>\n",
       "      <td>0.210</td>\n",
       "      <td>0.120</td>\n",
       "      <td>0.273</td>\n",
       "      <td>0.174</td>\n",
       "      <td>0.141</td>\n",
       "    </tr>\n",
       "    <tr>\n",
       "      <th>1</th>\n",
       "      <td>1</td>\n",
       "      <td>Alabama</td>\n",
       "      <td>0.121</td>\n",
       "      <td>0.279</td>\n",
       "      <td>0.319</td>\n",
       "      <td>0.118</td>\n",
       "      <td>0.126</td>\n",
       "      <td>0.251</td>\n",
       "      <td>0.173</td>\n",
       "    </tr>\n",
       "    <tr>\n",
       "      <th>2</th>\n",
       "      <td>2</td>\n",
       "      <td>Alaska</td>\n",
       "      <td>0.068</td>\n",
       "      <td>0.000</td>\n",
       "      <td>0.178</td>\n",
       "      <td>0.000</td>\n",
       "      <td>0.274</td>\n",
       "      <td>0.104</td>\n",
       "      <td>0.106</td>\n",
       "    </tr>\n",
       "    <tr>\n",
       "      <th>3</th>\n",
       "      <td>3</td>\n",
       "      <td>Arizona</td>\n",
       "      <td>0.110</td>\n",
       "      <td>0.211</td>\n",
       "      <td>0.238</td>\n",
       "      <td>0.136</td>\n",
       "      <td>0.360</td>\n",
       "      <td>0.155</td>\n",
       "      <td>0.165</td>\n",
       "    </tr>\n",
       "    <tr>\n",
       "      <th>4</th>\n",
       "      <td>4</td>\n",
       "      <td>Arkansas</td>\n",
       "      <td>0.138</td>\n",
       "      <td>0.288</td>\n",
       "      <td>0.255</td>\n",
       "      <td>0.129</td>\n",
       "      <td>0.263</td>\n",
       "      <td>0.254</td>\n",
       "      <td>0.172</td>\n",
       "    </tr>\n",
       "  </tbody>\n",
       "</table>\n",
       "</div>"
      ],
      "text/plain": [
       "   id          state  White  Black  Hispanic  \\\n",
       "0   0  United States  0.100  0.238     0.210   \n",
       "1   1        Alabama  0.121  0.279     0.319   \n",
       "2   2         Alaska  0.068  0.000     0.178   \n",
       "3   3        Arizona  0.110  0.211     0.238   \n",
       "4   4       Arkansas  0.138  0.288     0.255   \n",
       "\n",
       "   Asian/Native Hawaiian and Pacific Islander  American Indian/Alaska Native  \\\n",
       "0                                       0.120                          0.273   \n",
       "1                                       0.118                          0.126   \n",
       "2                                       0.000                          0.274   \n",
       "3                                       0.136                          0.360   \n",
       "4                                       0.129                          0.263   \n",
       "\n",
       "   Multiple Races  Total  \n",
       "0           0.174  0.141  \n",
       "1           0.251  0.173  \n",
       "2           0.104  0.106  \n",
       "3           0.155  0.165  \n",
       "4           0.254  0.172  "
      ]
     },
     "execution_count": 59,
     "metadata": {},
     "output_type": "execute_result"
    }
   ],
   "source": [
    "poverty_2016.head()"
   ]
  },
  {
   "cell_type": "code",
   "execution_count": 60,
   "id": "a7b3b7b7",
   "metadata": {},
   "outputs": [],
   "source": [
    "poverty_2016.to_sql(name=\"2016poverty\", con=engine, if_exists='append', index=False)"
   ]
  },
  {
   "cell_type": "code",
   "execution_count": 63,
   "id": "11662529",
   "metadata": {},
   "outputs": [],
   "source": [
    "poverty_2017 = poverty_2017.rename(columns={'Unnamed: 0': 'id', 'Location': 'state'})"
   ]
  },
  {
   "cell_type": "code",
   "execution_count": 65,
   "id": "6eeecf4b",
   "metadata": {},
   "outputs": [],
   "source": [
    "poverty_2017.to_sql(name=\"2017poverty\", con=engine, if_exists='append', index=False)"
   ]
  },
  {
   "cell_type": "code",
   "execution_count": null,
   "id": "375fccad",
   "metadata": {},
   "outputs": [],
   "source": []
  }
 ],
 "metadata": {
  "kernelspec": {
   "display_name": "Python 3",
   "language": "python",
   "name": "python3"
  },
  "language_info": {
   "codemirror_mode": {
    "name": "ipython",
    "version": 3
   },
   "file_extension": ".py",
   "mimetype": "text/x-python",
   "name": "python",
   "nbconvert_exporter": "python",
   "pygments_lexer": "ipython3",
   "version": "3.8.8"
  }
 },
 "nbformat": 4,
 "nbformat_minor": 5
}
